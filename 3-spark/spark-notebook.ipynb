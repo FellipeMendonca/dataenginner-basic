{
 "cells": [
  {
   "cell_type": "markdown",
   "metadata": {},
   "source": [
    "# Spark - Exercício prático\n",
    "\n",
    "Este notebook contém o exercício prático de Spark usando python. Você pode realizá-lo localmente em sua máquina (se estiver utilizando Linux) ou subir o código no Google Colab. Se estiver usando Windows, verifique o doc [2-2-spark-exercicios](2-2-spark-exercicios.md) para um tutorial de instalação do Spark no Windows.\n",
    "\n",
    "## Configuração do ambiente. \n",
    "\n",
    "As próximos células fazem a instalação e configuração do java-8 e do spark em sua máquina."
   ]
  },
  {
   "cell_type": "code",
   "execution_count": null,
   "metadata": {},
   "outputs": [],
   "source": [
    "%%bash\n",
    "\n",
    "# Install Java\n",
    "# apt-get install openjdk-8-jdk-headless -qq > /dev/null\n",
    "\n",
    "# Install PySpark\n",
    "pip install -q pyspark"
   ]
  },
  {
   "cell_type": "code",
   "execution_count": null,
   "metadata": {},
   "outputs": [],
   "source": [
    "import os\n",
    "os.environ['JAVA_HOME'] = '/usr/lib/jvm/java-8-openjdk-amd64'\n",
    "\n",
    "from pyspark.sql import SparkSession\n",
    "\n",
    "spark = SparkSession.builder.master(\"local[*]\").getOrCreate()"
   ]
  },
  {
   "cell_type": "markdown",
   "metadata": {},
   "source": [
    "## 01 - Leitura de dados\n",
    "\n",
    "Para começar, faça a leitura do arquivo `titanic.csv` para o ambiente spark. Algumas informações importantes:\n",
    "\n",
    "- O arquivo tem \";\" como separador,\n",
    "- O arquivo possui os nomes das colunas na primeira linha,\n",
    "- O arquivo deve ser lido com os tipos corretos."
   ]
  },
  {
   "cell_type": "code",
   "execution_count": 58,
   "metadata": {},
   "outputs": [],
   "source": [
    "import csv\n",
    "import requests\n",
    "from pathlib import Path\n",
    "from urllib.parse import urlparse\n",
    "\n",
    "import pyspark.sql.functions as func\n",
    "from pyspark.sql.functions import when\n",
    "from pyspark.sql.types import BooleanType"
   ]
  },
  {
   "cell_type": "code",
   "execution_count": 59,
   "metadata": {},
   "outputs": [],
   "source": [
    "def baixar_dados(nome_arquivo, url):\n",
    "  requisicao = requests.get(url)\n",
    "  conteudo = requisicao.content\n",
    "  arquivo_csv = open(nome_arquivo, 'wb')\n",
    "  arquivo_csv.write(conteudo)\n",
    "  arquivo_csv.close()"
   ]
  },
  {
   "cell_type": "code",
   "execution_count": 60,
   "metadata": {},
   "outputs": [],
   "source": [
    "url = \"https://raw.githubusercontent.com/neylsoncrepalde/titanic_data_with_semicolon/main/titanic.csv\"\n",
    "nome_arquivo = Path(urlparse(url).path).name\n",
    "baixar_dados(nome_arquivo, url)\n",
    "\n",
    "# Desenvolva seu código de leitura aqui:\n",
    "df = spark.read.csv(path=nome_arquivo, header=True, sep=\";\", inferSchema=True)"
   ]
  },
  {
   "cell_type": "markdown",
   "metadata": {},
   "source": [
    "## 02 - Algumas análises preliminares\n",
    "\n",
    "Exiba na tela:\n",
    "\n",
    "1) O schema da tabela\n",
    "2) Os 10 primeiros casos\n",
    "3) Apenas as pessoas que sobreviveram\n",
    "4) Apenas as pessoas que não sobreviveram e eram do sexo masculino\n",
    "5) A média de tarifa paga para cada classe\n",
    "6) A média de tarifa paga para cada classe e sexo\n",
    "7) Número de sobreviventes por classe e sexo\n",
    "8) Número de sobreviventes por sexo e categorias de idade (as categorias de idade devem ser construídas como: abaixo de 18 = criança, entre 18 e 40 = jovem adulto, maior de 40 = adulto maduro)."
   ]
  },
  {
   "cell_type": "code",
   "execution_count": 61,
   "metadata": {},
   "outputs": [],
   "source": [
    "df_casted = df.withColumn(\"Survived\", df.Survived.cast(BooleanType()))"
   ]
  },
  {
   "cell_type": "code",
   "execution_count": 62,
   "metadata": {},
   "outputs": [
    {
     "name": "stdout",
     "output_type": "stream",
     "text": [
      "root\n",
      " |-- PassengerId: integer (nullable = true)\n",
      " |-- Survived: boolean (nullable = true)\n",
      " |-- Pclass: integer (nullable = true)\n",
      " |-- Name: string (nullable = true)\n",
      " |-- Sex: string (nullable = true)\n",
      " |-- Age: double (nullable = true)\n",
      " |-- SibSp: integer (nullable = true)\n",
      " |-- Parch: integer (nullable = true)\n",
      " |-- Ticket: string (nullable = true)\n",
      " |-- Fare: double (nullable = true)\n",
      " |-- Cabin: string (nullable = true)\n",
      " |-- Embarked: string (nullable = true)\n",
      "\n"
     ]
    }
   ],
   "source": [
    "# 1)\n",
    "# Desenvolva sua resposta aqui:\n",
    "df_casted.printSchema()"
   ]
  },
  {
   "cell_type": "code",
   "execution_count": 63,
   "metadata": {},
   "outputs": [
    {
     "name": "stdout",
     "output_type": "stream",
     "text": [
      "+-----------+--------+------+--------------------+------+----+-----+-----+----------------+-------+-----+--------+\n",
      "|PassengerId|Survived|Pclass|                Name|   Sex| Age|SibSp|Parch|          Ticket|   Fare|Cabin|Embarked|\n",
      "+-----------+--------+------+--------------------+------+----+-----+-----+----------------+-------+-----+--------+\n",
      "|          1|   false|     3|Braund, Mr. Owen ...|  male|22.0|    1|    0|       A/5 21171|   7.25| null|       S|\n",
      "|          2|    true|     1|Cumings, Mrs. Joh...|female|38.0|    1|    0|        PC 17599|71.2833|  C85|       C|\n",
      "|          3|    true|     3|Heikkinen, Miss. ...|female|26.0|    0|    0|STON/O2. 3101282|  7.925| null|       S|\n",
      "|          4|    true|     1|Futrelle, Mrs. Ja...|female|35.0|    1|    0|          113803|   53.1| C123|       S|\n",
      "|          5|   false|     3|Allen, Mr. Willia...|  male|35.0|    0|    0|          373450|   8.05| null|       S|\n",
      "|          6|   false|     3|    Moran, Mr. James|  male|null|    0|    0|          330877| 8.4583| null|       Q|\n",
      "|          7|   false|     1|McCarthy, Mr. Tim...|  male|54.0|    0|    0|           17463|51.8625|  E46|       S|\n",
      "|          8|   false|     3|Palsson, Master. ...|  male| 2.0|    3|    1|          349909| 21.075| null|       S|\n",
      "|          9|    true|     3|Johnson, Mrs. Osc...|female|27.0|    0|    2|          347742|11.1333| null|       S|\n",
      "|         10|    true|     2|Nasser, Mrs. Nich...|female|14.0|    1|    0|          237736|30.0708| null|       C|\n",
      "+-----------+--------+------+--------------------+------+----+-----+-----+----------------+-------+-----+--------+\n",
      "only showing top 10 rows\n",
      "\n"
     ]
    }
   ],
   "source": [
    "# 2)\n",
    "# Desenvolva sua resposta aqui:\n",
    "df_casted.show(10)"
   ]
  },
  {
   "cell_type": "code",
   "execution_count": 64,
   "metadata": {},
   "outputs": [
    {
     "name": "stdout",
     "output_type": "stream",
     "text": [
      "+-----------+--------+------+--------------------+------+----+-----+-----+----------------+--------+-----+--------+\n",
      "|PassengerId|Survived|Pclass|                Name|   Sex| Age|SibSp|Parch|          Ticket|    Fare|Cabin|Embarked|\n",
      "+-----------+--------+------+--------------------+------+----+-----+-----+----------------+--------+-----+--------+\n",
      "|          2|    true|     1|Cumings, Mrs. Joh...|female|38.0|    1|    0|        PC 17599| 71.2833|  C85|       C|\n",
      "|          3|    true|     3|Heikkinen, Miss. ...|female|26.0|    0|    0|STON/O2. 3101282|   7.925| null|       S|\n",
      "|          4|    true|     1|Futrelle, Mrs. Ja...|female|35.0|    1|    0|          113803|    53.1| C123|       S|\n",
      "|          9|    true|     3|Johnson, Mrs. Osc...|female|27.0|    0|    2|          347742| 11.1333| null|       S|\n",
      "|         10|    true|     2|Nasser, Mrs. Nich...|female|14.0|    1|    0|          237736| 30.0708| null|       C|\n",
      "|         11|    true|     3|Sandstrom, Miss. ...|female| 4.0|    1|    1|         PP 9549|    16.7|   G6|       S|\n",
      "|         12|    true|     1|Bonnell, Miss. El...|female|58.0|    0|    0|          113783|   26.55| C103|       S|\n",
      "|         16|    true|     2|Hewlett, Mrs. (Ma...|female|55.0|    0|    0|          248706|    16.0| null|       S|\n",
      "|         18|    true|     2|Williams, Mr. Cha...|  male|null|    0|    0|          244373|    13.0| null|       S|\n",
      "|         20|    true|     3|Masselmani, Mrs. ...|female|null|    0|    0|            2649|   7.225| null|       C|\n",
      "|         22|    true|     2|Beesley, Mr. Lawr...|  male|34.0|    0|    0|          248698|    13.0|  D56|       S|\n",
      "|         23|    true|     3|\"McGowan, Miss. A...|female|15.0|    0|    0|          330923|  8.0292| null|       Q|\n",
      "|         24|    true|     1|Sloper, Mr. Willi...|  male|28.0|    0|    0|          113788|    35.5|   A6|       S|\n",
      "|         26|    true|     3|Asplund, Mrs. Car...|female|38.0|    1|    5|          347077| 31.3875| null|       S|\n",
      "|         29|    true|     3|\"O'Dwyer, Miss. E...|female|null|    0|    0|          330959|  7.8792| null|       Q|\n",
      "|         32|    true|     1|Spencer, Mrs. Wil...|female|null|    1|    0|        PC 17569|146.5208|  B78|       C|\n",
      "|         33|    true|     3|Glynn, Miss. Mary...|female|null|    0|    0|          335677|    7.75| null|       Q|\n",
      "|         37|    true|     3|    Mamee, Mr. Hanna|  male|null|    0|    0|            2677|  7.2292| null|       C|\n",
      "|         40|    true|     3|Nicola-Yarred, Mi...|female|14.0|    1|    0|            2651| 11.2417| null|       C|\n",
      "|         44|    true|     2|Laroche, Miss. Si...|female| 3.0|    1|    2|   SC/Paris 2123| 41.5792| null|       C|\n",
      "+-----------+--------+------+--------------------+------+----+-----+-----+----------------+--------+-----+--------+\n",
      "only showing top 20 rows\n",
      "\n"
     ]
    }
   ],
   "source": [
    "# 3)\n",
    "# Desenvolva sua resposta aqui:\n",
    "df_casted.filter(df_casted.Survived == True).show()"
   ]
  },
  {
   "cell_type": "code",
   "execution_count": 65,
   "metadata": {},
   "outputs": [
    {
     "name": "stdout",
     "output_type": "stream",
     "text": [
      "+-----------+--------+------+--------------------+----+----+-----+-----+---------------+-------+-----------+--------+\n",
      "|PassengerId|Survived|Pclass|                Name| Sex| Age|SibSp|Parch|         Ticket|   Fare|      Cabin|Embarked|\n",
      "+-----------+--------+------+--------------------+----+----+-----+-----+---------------+-------+-----------+--------+\n",
      "|          1|   false|     3|Braund, Mr. Owen ...|male|22.0|    1|    0|      A/5 21171|   7.25|       null|       S|\n",
      "|          5|   false|     3|Allen, Mr. Willia...|male|35.0|    0|    0|         373450|   8.05|       null|       S|\n",
      "|          6|   false|     3|    Moran, Mr. James|male|null|    0|    0|         330877| 8.4583|       null|       Q|\n",
      "|          7|   false|     1|McCarthy, Mr. Tim...|male|54.0|    0|    0|          17463|51.8625|        E46|       S|\n",
      "|          8|   false|     3|Palsson, Master. ...|male| 2.0|    3|    1|         349909| 21.075|       null|       S|\n",
      "|         13|   false|     3|Saundercock, Mr. ...|male|20.0|    0|    0|      A/5. 2151|   8.05|       null|       S|\n",
      "|         14|   false|     3|Andersson, Mr. An...|male|39.0|    1|    5|         347082| 31.275|       null|       S|\n",
      "|         17|   false|     3|Rice, Master. Eugene|male| 2.0|    4|    1|         382652| 29.125|       null|       Q|\n",
      "|         21|   false|     2|Fynney, Mr. Joseph J|male|35.0|    0|    0|         239865|   26.0|       null|       S|\n",
      "|         27|   false|     3|Emir, Mr. Farred ...|male|null|    0|    0|           2631|  7.225|       null|       C|\n",
      "|         28|   false|     1|Fortune, Mr. Char...|male|19.0|    3|    2|          19950|  263.0|C23 C25 C27|       S|\n",
      "|         30|   false|     3| Todoroff, Mr. Lalio|male|null|    0|    0|         349216| 7.8958|       null|       S|\n",
      "|         31|   false|     1|Uruchurtu, Don. M...|male|40.0|    0|    0|       PC 17601|27.7208|       null|       C|\n",
      "|         34|   false|     2|Wheadon, Mr. Edwa...|male|66.0|    0|    0|     C.A. 24579|   10.5|       null|       S|\n",
      "|         35|   false|     1|Meyer, Mr. Edgar ...|male|28.0|    1|    0|       PC 17604|82.1708|       null|       C|\n",
      "|         36|   false|     1|Holverson, Mr. Al...|male|42.0|    1|    0|         113789|   52.0|       null|       S|\n",
      "|         38|   false|     3|Cann, Mr. Ernest ...|male|21.0|    0|    0|     A./5. 2152|   8.05|       null|       S|\n",
      "|         43|   false|     3| Kraeff, Mr. Theodor|male|null|    0|    0|         349253| 7.8958|       null|       C|\n",
      "|         46|   false|     3|Rogers, Mr. Willi...|male|null|    0|    0|S.C./A.4. 23567|   8.05|       null|       S|\n",
      "|         47|   false|     3|   Lennon, Mr. Denis|male|null|    1|    0|         370371|   15.5|       null|       Q|\n",
      "+-----------+--------+------+--------------------+----+----+-----+-----+---------------+-------+-----------+--------+\n",
      "only showing top 20 rows\n",
      "\n"
     ]
    }
   ],
   "source": [
    "# 4)\n",
    "# Desenvolva sua resposta aqui:\n",
    "df_casted.filter((df_casted.Survived == False) & (df_casted.Sex == \"male\")).show()"
   ]
  },
  {
   "cell_type": "code",
   "execution_count": 66,
   "metadata": {},
   "outputs": [
    {
     "name": "stdout",
     "output_type": "stream",
     "text": [
      "+------+-------+\n",
      "|Pclass|AvgFare|\n",
      "+------+-------+\n",
      "|     1|  84.15|\n",
      "|     2|  20.66|\n",
      "|     3|  13.68|\n",
      "+------+-------+\n",
      "\n"
     ]
    }
   ],
   "source": [
    "# 5)\n",
    "# Desenvolva sua resposta aqui:\n",
    "df_casted.groupBy(\"Pclass\").agg(func.round(mean(\"Fare\"), 2).alias(\"AvgFare\")).sort(\"Pclass\").show()"
   ]
  },
  {
   "cell_type": "code",
   "execution_count": 67,
   "metadata": {},
   "outputs": [
    {
     "name": "stdout",
     "output_type": "stream",
     "text": [
      "+------+------+-------+\n",
      "|Pclass|   Sex|AvgFare|\n",
      "+------+------+-------+\n",
      "|     1|female| 106.13|\n",
      "|     1|  male|  67.23|\n",
      "|     2|female|  21.97|\n",
      "|     2|  male|  19.74|\n",
      "|     3|female|  16.12|\n",
      "|     3|  male|  12.66|\n",
      "+------+------+-------+\n",
      "\n"
     ]
    }
   ],
   "source": [
    "# 6)\n",
    "# Desenvolva sua resposta aqui:\n",
    "df_casted.groupBy(\"Pclass\", \"Sex\").agg(func.round(mean(\"Fare\"), 2).alias(\"AvgFare\")).sort(\"Pclass\", \"Sex\").show()"
   ]
  },
  {
   "cell_type": "code",
   "execution_count": 68,
   "metadata": {},
   "outputs": [
    {
     "name": "stdout",
     "output_type": "stream",
     "text": [
      "+------+------+-----+\n",
      "|Pclass|   Sex|count|\n",
      "+------+------+-----+\n",
      "|     1|female|   91|\n",
      "|     1|  male|   45|\n",
      "|     2|female|   70|\n",
      "|     2|  male|   17|\n",
      "|     3|female|   72|\n",
      "|     3|  male|   47|\n",
      "+------+------+-----+\n",
      "\n"
     ]
    }
   ],
   "source": [
    "# 7)\n",
    "# Desenvolva sua resposta aqui:\n",
    "df_casted.filter(df_casted.Survived == True).groupBy(\"Pclass\", \"Sex\").count().sort(\"Pclass\", \"Sex\").show()"
   ]
  },
  {
   "cell_type": "code",
   "execution_count": 74,
   "metadata": {},
   "outputs": [
    {
     "name": "stdout",
     "output_type": "stream",
     "text": [
      "+------+------------+-----+\n",
      "|   Sex|    Category|count|\n",
      "+------+------------+-----+\n",
      "|female|    children|   38|\n",
      "|female|mature adult|   73|\n",
      "|female| young adult|  122|\n",
      "|  male|    children|   23|\n",
      "|  male|mature adult|   34|\n",
      "|  male| young adult|   52|\n",
      "+------+------------+-----+\n",
      "\n"
     ]
    }
   ],
   "source": [
    "# 8)\n",
    "# Desenvolva sua resposta aqui:\n",
    "# Categorias de idade devem ser construídas como: abaixo de 18 = criança, entre 18 e 40 = jovem adulto, maior de 40 = adulto maduro).\n",
    "df_casted.filter(df_casted.Survived == True) \\\n",
    "    .withColumn(\"Category\", \\\n",
    "        when(df_casted.Age < 18, \"children\") \\\n",
    "        .when((df_casted.Age >= 18) & (df_casted.Age <= 40), \"young adult\") \\\n",
    "        .otherwise(\"mature adult\")\n",
    "        ) \\\n",
    "    .groupBy(\"Sex\", \"Category\").count().sort(\"Sex\", \"Category\").show()"
   ]
  },
  {
   "cell_type": "markdown",
   "metadata": {},
   "source": [
    "## 03 - Escreve dados\n",
    "\n",
    "Faça uma seleção apenas das pessoas que sobreviveram e escreva os dados em um arquivo **parquet** particionado por sexo e classe."
   ]
  },
  {
   "cell_type": "code",
   "execution_count": 77,
   "metadata": {},
   "outputs": [
    {
     "name": "stderr",
     "output_type": "stream",
     "text": [
      "                                                                                \r"
     ]
    }
   ],
   "source": [
    "# Desenvolva a resposta aqui...\n",
    "survived = df_casted.filter(df_casted.Survived == True)\n",
    "\n",
    "survived.write.partitionBy(\"Sex\", \"Pclass\").mode(\"overwrite\").parquet(\"survived\")\n"
   ]
  }
 ],
 "metadata": {
  "kernelspec": {
   "display_name": "Python 3.10.4 64-bit",
   "language": "python",
   "name": "python3"
  },
  "language_info": {
   "codemirror_mode": {
    "name": "ipython",
    "version": 3
   },
   "file_extension": ".py",
   "mimetype": "text/x-python",
   "name": "python",
   "nbconvert_exporter": "python",
   "pygments_lexer": "ipython3",
   "version": "3.10.4"
  },
  "orig_nbformat": 2,
  "vscode": {
   "interpreter": {
    "hash": "916dbcbb3f70747c44a77c7bcd40155683ae19c65e1c03b4aa3499c5328201f1"
   }
  }
 },
 "nbformat": 4,
 "nbformat_minor": 2
}
