{
  "cells": [
    {
      "cell_type": "markdown",
      "metadata": {
        "id": "ls0vTQwK0C6z"
      },
      "source": [
        "# TESTE PRÁTICO DE LINGUAGEM DE CONSULTA ESTRUTURADA (SQL)\n",
        "Para a realização das atividades, você deverá executar as instruções abaixo para importar as bibliotecas e funções necessárias para criar a base de dados.\n",
        "\n",
        "Ao final, esperamos que você desenvolva os códigos selecionados e entregue o notebook com as consultas SQL desenvolvidas e o arquivo .db criado.\n",
        "\n",
        "O teste importará três arquivos cruciais para o desenvolvimento dessa atividade. Todos estão no Githun (não mude as URL's).\n",
        "\n",
        "*   usuarios.csv\n",
        "*   produtos.csv\n",
        "*   vendas.csv\n",
        "\n",
        "## O teste foi desenvolvido para ser executado com o SQLite3 e no Google Colab (Ubuntu 18.04). Você deverá utilizar consultas no padrão ANSI. Os comandos necessários podem ser encontrados em:\n",
        "\n",
        "https://www.sqlite.org/docs.html\n",
        "\n",
        "https://www.tutorialspoint.com/sqlite/index.htm\n",
        "\n"
      ]
    },
    {
      "cell_type": "markdown",
      "metadata": {
        "id": "bSjsGmXsuYqZ"
      },
      "source": [
        "# AVISO!\n",
        "\n",
        "\n",
        "\n",
        "1.   Instalar os pacotes antes de executar o código\n",
        "2.   Execute o código abaixo para atualizar a biblioteca do SQLite3 utilizada para essa atividade\n",
        "3.   **Ignore as mensagens de erro sobre perda de conectividade na instrução abaixo (o kernel será reiniciado para atualização do SQLite3)**\n"
      ]
    },
    {
      "cell_type": "code",
      "execution_count": null,
      "metadata": {},
      "outputs": [],
      "source": [
        "# sudo apt install python3-pip\n",
        "# sudo apt-get install npm\n",
        "# sudo npm install -g npx\n",
        "# sudo npm install -g degit"
      ]
    },
    {
      "cell_type": "code",
      "execution_count": null,
      "metadata": {
        "id": "1TZeXvCkWawk"
      },
      "outputs": [],
      "source": [
        "import os\n",
        "import getpass \n",
        "\n",
        "# MODULO NECESÁRIO PARA INFORMAR A SENHA DE ADMIN (SUDO)\n",
        "password = getpass.getpass() \n",
        "\n",
        "# NO MEU AMBIENTE FOI NECESSÁRIO ALTERAR ESSE CÓDIGO POIS UTILIZO O PYTHON 3.10\n",
        "!curl https://www.sqlite.org/src/tarball/sqlite.tar.gz?r=release | tar xz\n",
        "%cd sqlite/\n",
        "!./configure\n",
        "!make sqlite3.c\n",
        "!npx degit coleifer/pysqlite3 -f\n",
        "!cp sqlite3.[ch] .\n",
        "!python3 setup.py build_static build\n",
        "\n",
        "\n",
        "#can be any command but don't forget -S as it enables input from stdin\n",
        "command = \"sudo -S cp build/lib.linux-x86_64-3.10/pysqlite3/_sqlite3.cpython-310-x86_64-linux-gnu.so /usr/lib/python3.10/lib-dynload/\" \n",
        "os.system('echo %s | %s' % (password, command))\n",
        "\n",
        "# REINICIANDO O KERNEL DO COLAB PARA IMPORTAR A BIBLIOTECA ATUALIZADA\n",
        "os.kill(os.getpid(), 9)"
      ]
    },
    {
      "cell_type": "markdown",
      "metadata": {
        "id": "YD9I0i8qRVCo"
      },
      "source": [
        "# INSTRUÇÕES PARA REALIZAR AS CONSULTAS\n",
        "### PARA CONSULTAR DADOS, SIGA OS PASSOS ABAIXO:\n",
        "\n",
        "#### Abrir conexão:\n",
        "    conexao_sql = sqlite3.connect(banco)\n",
        "#### Abrir cursor para executar consulta no banco:\n",
        "    cursor = conexao_sql.cursor()\n",
        "#### Criar uma consulta:\n",
        "    consulta = '''\n",
        "        Coloque aqui a sua instrução SQL;\n",
        "    '''\n",
        "    cursor.execute(consulta)\n",
        "#### Para visualizar o resultado da sua consulta:\n",
        "    for linha in cursor:\n",
        "      print(linha)\n",
        "#### Para fechar a conexão:\n",
        "    conexao_sql.close()\n",
        "\n",
        "### LEMBRE-SE DE QUE PYTHON É SENSÍVEL A IDENTAÇÃO DE CÓDIGO!"
      ]
    },
    {
      "cell_type": "markdown",
      "metadata": {
        "id": "Q-JtQam4AsEU"
      },
      "source": [
        "# IMPORTANDO BIBLIOTECAS NECESSÁRIAS PARA EXECUTAR OS CÓDIGOS EM SQL"
      ]
    },
    {
      "cell_type": "code",
      "execution_count": null,
      "metadata": {
        "id": "0CBwbpEfAl5m"
      },
      "outputs": [],
      "source": [
        "import sqlite3\n",
        "import csv\n",
        "import requests\n",
        "from pathlib import Path\n",
        "from urllib.parse import urlparse"
      ]
    },
    {
      "cell_type": "markdown",
      "metadata": {
        "id": "-pbN5gB4MsUO"
      },
      "source": [
        "# DEFINIÇÃO DE VARIÁVEIS FIXAS PARA O PROJETO"
      ]
    },
    {
      "cell_type": "code",
      "execution_count": null,
      "metadata": {
        "id": "MExXbyvGMvoE"
      },
      "outputs": [],
      "source": [
        "banco = \"teste_sql.db\""
      ]
    },
    {
      "cell_type": "markdown",
      "metadata": {
        "id": "REYwFNTZ5u93"
      },
      "source": [
        "# FUNÇÃO PARA INSERIR REGISTROS NO BANCO DE DADOS"
      ]
    },
    {
      "cell_type": "code",
      "execution_count": null,
      "metadata": {
        "id": "-ocVcmyN5uHv"
      },
      "outputs": [],
      "source": [
        "# Recebe como parâmetro\n",
        "# 1. Nome do banco de dados\n",
        "# 2. Nome da tabela que receberá os dados\n",
        "# 3. Lista das colunas da tabela\n",
        "# 4. Dados que serão inseridos\n",
        "\n",
        "def inserir_registros(banco, tabela, lista_colunas, arquivo):\n",
        "  conexao_sql = sqlite3.connect(banco)\n",
        "  cursor = conexao_sql.cursor()\n",
        "  dados = open(arquivo)\n",
        "  conteudo_dados = csv.reader(dados)\n",
        "  num_colunas = 1 if lista_colunas.count(',') == 1 else lista_colunas.count(',')\n",
        "  string_insert = 'INSERT INTO ' + tabela + ' (' + lista_colunas + ') VALUES (?' + ('' if num_colunas == 1 else ', ?' * (num_colunas)) + ')'\n",
        "  cursor.executemany(string_insert, conteudo_dados)\n",
        "  conexao_sql.commit()\n",
        "  conexao_sql.close()"
      ]
    },
    {
      "cell_type": "markdown",
      "metadata": {
        "id": "8ZhCn-s-zofx"
      },
      "source": [
        "# FUNÇÃO PARA BAIXAR A BASE DE DADOS UTILIZADA PARA DESENVOLVIMENTO DAS ATIVIDADES"
      ]
    },
    {
      "cell_type": "code",
      "execution_count": null,
      "metadata": {
        "id": "jniWnEiPzsoR"
      },
      "outputs": [],
      "source": [
        "# Recebe como parâmetro:\n",
        "# 1. Nome do arquivo com a extensão (Ex: base.csv)\n",
        "# 2. URL do site onde o dado está localizado (Ex: 'https://drive.google.com/user_teste/folder_dataset/file.csv'):\n",
        "\n",
        "def baixar_dados(nome_arquivo, url):\n",
        "  requisicao = requests.get(url)\n",
        "  conteudo = requisicao.content\n",
        "  arquivo_csv = open(nome_arquivo, 'wb')\n",
        "  arquivo_csv.write(conteudo)\n",
        "  arquivo_csv.close()"
      ]
    },
    {
      "cell_type": "markdown",
      "metadata": {
        "id": "ZDzP63LXB-Yb"
      },
      "source": [
        "# CRIAÇÃO DE CONEXÃO COM O BANCO SQLITE3 PARA DESENVOLVIMENTO DA ATIVIDADE"
      ]
    },
    {
      "cell_type": "code",
      "execution_count": null,
      "metadata": {
        "id": "3XY-opKGB-Fc"
      },
      "outputs": [],
      "source": [
        "# Abre conexão com o banco. Se o arquivo não existir, cria a base.\n",
        "conexao_sql = sqlite3.connect(banco)\n",
        "conexao_sql.close()"
      ]
    },
    {
      "cell_type": "markdown",
      "metadata": {
        "id": "HnUMa9XnCcKb"
      },
      "source": [
        "# CRIAÇÃO DAS TABELAS PARA REALIZAÇÃO DAS ATIVIDADES"
      ]
    },
    {
      "cell_type": "markdown",
      "metadata": {
        "id": "YuyEsU8WAZZm"
      },
      "source": [
        "### TABELA DE USUÁRIOS"
      ]
    },
    {
      "cell_type": "code",
      "execution_count": null,
      "metadata": {
        "id": "GrzK24ITCS-O"
      },
      "outputs": [],
      "source": [
        "url = 'https://raw.githubusercontent.com/A3Data/testes_praticos/main/sql/base_dados/usuarios.csv'\n",
        "nome_arquivo = Path(urlparse(url).path).name\n",
        "baixar_dados(nome_arquivo, url)\n",
        "\n",
        "conexao_sql = sqlite3.connect(banco)\n",
        "# CRIAR A TABELA\n",
        "conexao_sql.execute('''\n",
        "CREATE TABLE IF NOT EXISTS usuarios\n",
        "(\n",
        "  cod_usuario INTEGER NOT NULL,\n",
        "  data_cadastro DATE NOT NULL,\n",
        "  faixa_etaria TEXT,\n",
        "  cidade TEXT NOT NULL,\n",
        "  estado TEXT NOT NULL);'''\n",
        ")\n",
        "conexao_sql.commit()\n",
        "\n",
        "# INSERIR OS REGISTROS NO BANCO DE DADOS\n",
        "lista_campos = 'cod_usuario, data_cadastro, faixa_etaria, cidade, estado'\n",
        "inserir_registros(banco, 'usuarios', lista_campos, nome_arquivo)"
      ]
    },
    {
      "cell_type": "markdown",
      "metadata": {
        "id": "DoMfz7RxJQzZ"
      },
      "source": [
        "### TABELA DE PRODUTOS"
      ]
    },
    {
      "cell_type": "code",
      "execution_count": null,
      "metadata": {
        "id": "qgL8Rka-JTPI"
      },
      "outputs": [],
      "source": [
        "url = 'https://raw.githubusercontent.com/A3Data/testes_praticos/main/sql/base_dados/produtos.csv'\n",
        "nome_arquivo = Path(urlparse(url).path).name\n",
        "baixar_dados(nome_arquivo, url)\n",
        "\n",
        "conexao_sql = sqlite3.connect(banco)\n",
        "arquivo_produtos = 'produtos.csv'\n",
        "# CRIAR A TABELA\n",
        "conexao_sql.execute('''\n",
        "CREATE TABLE IF NOT EXISTS produtos\n",
        "(\n",
        "  cod_produto INTEGER NOT NULL,\n",
        "  nome_produto TEXT NOT NULL,\n",
        "  categoria_produto TEXT,\n",
        "  valor_produto FLOAT);'''\n",
        ")\n",
        "conexao_sql.commit()\n",
        "\n",
        "# INSERIR OS REGISTROS NO BANCO DE DADOS\n",
        "lista_campos = 'cod_produto, nome_produto, categoria_produto, valor_produto'\n",
        "inserir_registros(banco, 'produtos', lista_campos, arquivo_produtos)"
      ]
    },
    {
      "cell_type": "markdown",
      "metadata": {
        "id": "Hgyf94onJxDN"
      },
      "source": [
        "### TABELA DE VENDAS"
      ]
    },
    {
      "cell_type": "code",
      "execution_count": null,
      "metadata": {
        "id": "8Wb1heaCNukB"
      },
      "outputs": [],
      "source": [
        "url = 'https://raw.githubusercontent.com/A3Data/testes_praticos/main/sql/base_dados/vendas.csv'\n",
        "nome_arquivo = Path(urlparse(url).path).name\n",
        "baixar_dados(nome_arquivo, url)\n",
        "\n",
        "conexao_sql = sqlite3.connect(banco)\n",
        "arquivo_vendas = 'vendas.csv'\n",
        "# CRIAR A TABELA\n",
        "conexao_sql.execute('''\n",
        "CREATE TABLE IF NOT EXISTS vendas\n",
        "(\n",
        "  cod_usuario INTEGER NOT NULL,\n",
        "  cod_produto INTEGER NOT NULL,\n",
        "  data_compra DATE NOT NULL,\n",
        "  quantidade INT NOT NULL,\n",
        "  valor FLOAT NOT NULL);'''\n",
        ")\n",
        "conexao_sql.commit()\n",
        "\n",
        "# INSERIR OS REGISTROS NO BANCO DE DADOS\n",
        "lista_campos = 'cod_usuario, cod_produto, data_compra, quantidade, valor'\n",
        "inserir_registros(banco, 'vendas', lista_campos, arquivo_vendas)"
      ]
    },
    {
      "cell_type": "markdown",
      "metadata": {
        "id": "nRJNYDRWTgiL"
      },
      "source": [
        "# PERGUNTA 1:\n",
        "\n",
        "### Escreva um comando em SQL que retorne a quantidade de vendas dos estados de Minas Gerais e São Paulo por ano e mês"
      ]
    },
    {
      "cell_type": "code",
      "execution_count": null,
      "metadata": {
        "id": "ed_t8KnbRVz2"
      },
      "outputs": [],
      "source": []
    },
    {
      "cell_type": "markdown",
      "metadata": {
        "id": "tvNgeJxYTswO"
      },
      "source": [
        "# PERGUNTA 2:\n",
        "\n",
        "### Escreva um comando em SQL que retorne o ticket médio (valor médio de compra) e quantidade de compras realizadas dos usuários que fizeram compras entre 2019 e 2020 e que tiveram mais de 3 compras no período (lembre-se de contar todas as compras dos usuários que estão nessa condição!)"
      ]
    },
    {
      "cell_type": "code",
      "execution_count": null,
      "metadata": {
        "id": "svQauyVNT-mH"
      },
      "outputs": [],
      "source": []
    },
    {
      "cell_type": "markdown",
      "metadata": {
        "id": "GM_4SLAWT_ul"
      },
      "source": [
        "# PERGUNTA 3:\n",
        "\n",
        "### Escreva um comando em SQL que retorne quais são os usuários por estado que mais compraram em todo o período analisado e, o número de compras realizadas, a quantidade total de itens comprados e valor total pago"
      ]
    },
    {
      "cell_type": "code",
      "execution_count": null,
      "metadata": {
        "id": "vhAIeozJUL9X"
      },
      "outputs": [],
      "source": []
    },
    {
      "cell_type": "markdown",
      "metadata": {
        "id": "dJdjxIQSUMwC"
      },
      "source": [
        "# PERGUNTA 4:\n",
        "\n",
        "### Escreva um comando em SQL que retorne quais são os 3 produtos mais comprados dos estados da região Sul e Sudeste, a quantidade de itens comprados, o valor total pago e a média de preço paga"
      ]
    },
    {
      "cell_type": "code",
      "execution_count": null,
      "metadata": {
        "id": "c-KIw9HKUgDT"
      },
      "outputs": [],
      "source": []
    },
    {
      "cell_type": "markdown",
      "metadata": {
        "id": "bmx2pcfKUv-m"
      },
      "source": [
        "# PERGUNTA 5:\n",
        "\n",
        "### Escreva um comando em SQL que retorne o ticket médio e o número total de usuários que fizeram pelo menos uma compra por faixa etária"
      ]
    },
    {
      "cell_type": "code",
      "execution_count": null,
      "metadata": {
        "id": "UjYCTpfaVBDg"
      },
      "outputs": [],
      "source": []
    },
    {
      "cell_type": "markdown",
      "metadata": {
        "id": "fex3Fh4NVCQw"
      },
      "source": [
        "# PERGUNTA 6:\n",
        "\n",
        "### Escreva um comando em SQL que aplique um desconto de 10% em todas as vendas dos usuários que fizeram pelo menos 3 compras de produtos na mesma categoria, a partir da 4ª compra realizada. Exiba apenas os usuários que terão o desconto aplicado, mantendo todas as compras, o valor original e o valor com o desconto aplicado"
      ]
    },
    {
      "cell_type": "code",
      "execution_count": null,
      "metadata": {
        "id": "9iXs_R3tVMdI"
      },
      "outputs": [],
      "source": []
    },
    {
      "cell_type": "markdown",
      "metadata": {
        "id": "clJo4yCJVM8W"
      },
      "source": [
        "# PERGUNTA 7\n",
        "\n",
        "### Escreva um comando em SQL que retorna o produto, quantos usuários fizeram pelo menos uma compra desse produto e qual é o valor mínimo e máximo pago"
      ]
    },
    {
      "cell_type": "code",
      "execution_count": null,
      "metadata": {
        "id": "u1gqzHI6WeAM"
      },
      "outputs": [],
      "source": []
    },
    {
      "cell_type": "markdown",
      "metadata": {
        "id": "GeTVczKEwgsa"
      },
      "source": [
        "# PERGUNTA 8\n",
        "\n",
        "### Escreva um comando em SQL que retorne o total de compras realizadas, o total de itens comprados e a receita total obtida"
      ]
    },
    {
      "cell_type": "code",
      "execution_count": null,
      "metadata": {
        "id": "yA8QeAYCwlqs"
      },
      "outputs": [],
      "source": []
    },
    {
      "cell_type": "markdown",
      "metadata": {
        "id": "x-z1FIOswmUD"
      },
      "source": [
        "# PERGUNTA 9\n",
        "\n",
        "### Escreva um comando em SQL que retorne o produto, a quantidade de itens vendidos e a receita do produto que tem mais itens vendidos por ano e mês"
      ]
    },
    {
      "cell_type": "code",
      "execution_count": null,
      "metadata": {
        "id": "NAS6MB4tJkgb"
      },
      "outputs": [],
      "source": []
    },
    {
      "cell_type": "markdown",
      "metadata": {
        "id": "kYhMnhWz_nFA"
      },
      "source": [
        "# PERGUNTA 10\n",
        "\n",
        "### Escreva um comando em SQL que exiba quem são os usuários que compraram produtos diferentes"
      ]
    },
    {
      "cell_type": "code",
      "execution_count": null,
      "metadata": {
        "id": "jcVJtqUs_uDp"
      },
      "outputs": [],
      "source": []
    },
    {
      "cell_type": "markdown",
      "metadata": {
        "id": "LufSnB1S_ukA"
      },
      "source": [
        "# PERGUNTA 11\n",
        "\n",
        "### Escreva um comando em SQL que verifique usuários que não fizeram nenhuma compra"
      ]
    },
    {
      "cell_type": "code",
      "execution_count": null,
      "metadata": {
        "id": "TWOczWW4_zTX"
      },
      "outputs": [],
      "source": []
    }
  ],
  "metadata": {
    "colab": {
      "collapsed_sections": [],
      "name": "TESTE PRÁTICO - SQL.ipynb",
      "provenance": []
    },
    "kernelspec": {
      "display_name": "Python 3.10.4 64-bit",
      "language": "python",
      "name": "python3"
    },
    "language_info": {
      "codemirror_mode": {
        "name": "ipython",
        "version": 3
      },
      "file_extension": ".py",
      "mimetype": "text/x-python",
      "name": "python",
      "nbconvert_exporter": "python",
      "pygments_lexer": "ipython3",
      "version": "3.10.4"
    },
    "vscode": {
      "interpreter": {
        "hash": "916dbcbb3f70747c44a77c7bcd40155683ae19c65e1c03b4aa3499c5328201f1"
      }
    }
  },
  "nbformat": 4,
  "nbformat_minor": 0
}
